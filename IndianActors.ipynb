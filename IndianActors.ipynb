{
  "cells": [
    {
      "cell_type": "markdown",
      "metadata": {
        "id": "view-in-github",
        "colab_type": "text"
      },
      "source": [
        "<a href=\"https://colab.research.google.com/github/akashbadal/ImageClassification_IndianActors/blob/main/IndianActors.ipynb\" target=\"_parent\"><img src=\"https://colab.research.google.com/assets/colab-badge.svg\" alt=\"Open In Colab\"/></a>"
      ]
    },
    {
      "cell_type": "code",
      "execution_count": 1,
      "metadata": {
        "colab": {
          "base_uri": "https://localhost:8080/"
        },
        "id": "VPTByg86IdwO",
        "outputId": "52df41c4-3948-41a3-b7ee-f47f05c5a9a8"
      },
      "outputs": [
        {
          "output_type": "stream",
          "name": "stdout",
          "text": [
            "Looking in indexes: https://pypi.org/simple, https://us-python.pkg.dev/colab-wheels/public/simple/\n",
            "Requirement already satisfied: keras in /usr/local/lib/python3.7/dist-packages (2.8.0)\n"
          ]
        }
      ],
      "source": [
        "pip install keras"
      ]
    },
    {
      "cell_type": "code",
      "execution_count": 2,
      "metadata": {
        "id": "tqArHwsKFFdO"
      },
      "outputs": [],
      "source": [
        "from keras.layers import Input,Lambda, Dense, Flatten\n",
        "from keras.models import Model\n",
        "#from keras.applications.inception_resnet_v2 import InceptionResNetV2\n",
        "from keras.applications.vgg16 import VGG16\n",
        "from keras.applications.vgg16 import preprocess_input\n",
        "from keras.preprocessing import image\n",
        "from keras.preprocessing.image import ImageDataGenerator\n",
        "from keras.models import Sequential\n",
        "import numpy as np\n",
        "from glob import glob\n",
        "import matplotlib.pyplot as plt\n",
        "import tensorflow as tf\n"
      ]
    },
    {
      "cell_type": "code",
      "execution_count": 3,
      "metadata": {
        "id": "trwlQLX5FVv4"
      },
      "outputs": [],
      "source": [
        "#re-size all the images to this\n",
        "IMAGE_SIZE = [150,150]\n"
      ]
    },
    {
      "cell_type": "code",
      "execution_count": 4,
      "metadata": {
        "colab": {
          "base_uri": "https://localhost:8080/"
        },
        "id": "KReuNfjlFf13",
        "outputId": "a292f8e8-f9eb-49ee-8608-05467c4109f7"
      },
      "outputs": [
        {
          "output_type": "stream",
          "name": "stdout",
          "text": [
            "Drive already mounted at /content/drive; to attempt to forcibly remount, call drive.mount(\"/content/drive\", force_remount=True).\n"
          ]
        }
      ],
      "source": [
        "from google.colab import drive\n",
        "drive.mount('/content/drive')"
      ]
    },
    {
      "cell_type": "code",
      "execution_count": 5,
      "metadata": {
        "id": "SQdagPj3I4jq"
      },
      "outputs": [],
      "source": [
        "train_path = '/content/drive/MyDrive/Colab Notebooks/indian-actor-dataset/train'\n",
        "valid_path = '/content/drive/MyDrive/Colab Notebooks/indian-actor-dataset/test'"
      ]
    },
    {
      "cell_type": "code",
      "execution_count": 6,
      "metadata": {
        "colab": {
          "base_uri": "https://localhost:8080/"
        },
        "id": "fk0HcYW_FZOh",
        "outputId": "89408230-215d-4190-b068-292e7316bafa"
      },
      "outputs": [
        {
          "output_type": "stream",
          "name": "stdout",
          "text": [
            "Downloading data from https://storage.googleapis.com/tensorflow/keras-applications/vgg16/vgg16_weights_tf_dim_ordering_tf_kernels_notop.h5\n",
            "58892288/58889256 [==============================] - 0s 0us/step\n",
            "58900480/58889256 [==============================] - 0s 0us/step\n"
          ]
        }
      ],
      "source": [
        "vgg = VGG16(input_shape=IMAGE_SIZE + [3], weights = 'imagenet', include_top= False)"
      ]
    },
    {
      "cell_type": "markdown",
      "source": [],
      "metadata": {
        "id": "FyNfMqirGYVJ"
      }
    },
    {
      "cell_type": "code",
      "execution_count": 7,
      "metadata": {
        "id": "9S42uGkcIoSl"
      },
      "outputs": [],
      "source": [
        "for layer in vgg.layers:\n",
        "    layer.trainable = False"
      ]
    },
    {
      "cell_type": "code",
      "execution_count": 8,
      "metadata": {
        "id": "Z-YWF6SqIoGY"
      },
      "outputs": [],
      "source": [
        "folders = glob('/content/drive/MyDrive/Colab Notebooks/indian-actor-dataset/train/*')"
      ]
    },
    {
      "cell_type": "code",
      "execution_count": 9,
      "metadata": {
        "id": "uOiJ6S6yIn6S"
      },
      "outputs": [],
      "source": [
        "#our layers - we can cadd more layers here\n",
        "x = Flatten()(vgg.output)\n",
        "# X = Dense(1000, activation = 'relu')(x)\n",
        "prediction = Dense(len(folders), activation = 'softmax')(x)"
      ]
    },
    {
      "cell_type": "code",
      "execution_count": 10,
      "metadata": {
        "colab": {
          "base_uri": "https://localhost:8080/"
        },
        "id": "3wnx6JLrI91a",
        "outputId": "47a7f97f-907f-469c-f994-034a19f9f8a4"
      },
      "outputs": [
        {
          "output_type": "stream",
          "name": "stdout",
          "text": [
            "Model: \"model\"\n",
            "_________________________________________________________________\n",
            " Layer (type)                Output Shape              Param #   \n",
            "=================================================================\n",
            " input_1 (InputLayer)        [(None, 150, 150, 3)]     0         \n",
            "                                                                 \n",
            " block1_conv1 (Conv2D)       (None, 150, 150, 64)      1792      \n",
            "                                                                 \n",
            " block1_conv2 (Conv2D)       (None, 150, 150, 64)      36928     \n",
            "                                                                 \n",
            " block1_pool (MaxPooling2D)  (None, 75, 75, 64)        0         \n",
            "                                                                 \n",
            " block2_conv1 (Conv2D)       (None, 75, 75, 128)       73856     \n",
            "                                                                 \n",
            " block2_conv2 (Conv2D)       (None, 75, 75, 128)       147584    \n",
            "                                                                 \n",
            " block2_pool (MaxPooling2D)  (None, 37, 37, 128)       0         \n",
            "                                                                 \n",
            " block3_conv1 (Conv2D)       (None, 37, 37, 256)       295168    \n",
            "                                                                 \n",
            " block3_conv2 (Conv2D)       (None, 37, 37, 256)       590080    \n",
            "                                                                 \n",
            " block3_conv3 (Conv2D)       (None, 37, 37, 256)       590080    \n",
            "                                                                 \n",
            " block3_pool (MaxPooling2D)  (None, 18, 18, 256)       0         \n",
            "                                                                 \n",
            " block4_conv1 (Conv2D)       (None, 18, 18, 512)       1180160   \n",
            "                                                                 \n",
            " block4_conv2 (Conv2D)       (None, 18, 18, 512)       2359808   \n",
            "                                                                 \n",
            " block4_conv3 (Conv2D)       (None, 18, 18, 512)       2359808   \n",
            "                                                                 \n",
            " block4_pool (MaxPooling2D)  (None, 9, 9, 512)         0         \n",
            "                                                                 \n",
            " block5_conv1 (Conv2D)       (None, 9, 9, 512)         2359808   \n",
            "                                                                 \n",
            " block5_conv2 (Conv2D)       (None, 9, 9, 512)         2359808   \n",
            "                                                                 \n",
            " block5_conv3 (Conv2D)       (None, 9, 9, 512)         2359808   \n",
            "                                                                 \n",
            " block5_pool (MaxPooling2D)  (None, 4, 4, 512)         0         \n",
            "                                                                 \n",
            " flatten (Flatten)           (None, 8192)              0         \n",
            "                                                                 \n",
            " dense (Dense)               (None, 135)               1106055   \n",
            "                                                                 \n",
            "=================================================================\n",
            "Total params: 15,820,743\n",
            "Trainable params: 1,106,055\n",
            "Non-trainable params: 14,714,688\n",
            "_________________________________________________________________\n"
          ]
        }
      ],
      "source": [
        "#create a model object\n",
        "model = Model(inputs = vgg.input, outputs = prediction)\n",
        "model.summary()"
      ]
    },
    {
      "cell_type": "code",
      "execution_count": 11,
      "metadata": {
        "id": "9VEl3UWkJQCi"
      },
      "outputs": [],
      "source": [
        "# Now let tell the model what cost and optimization method to use\n",
        "model.compile(\n",
        "    loss = 'categorical_crossentropy',\n",
        "    optimizer = 'adam',\n",
        "    metrics =['accuracy']\n",
        ")"
      ]
    },
    {
      "cell_type": "code",
      "execution_count": 12,
      "metadata": {
        "id": "UNSaxUaAJRwp"
      },
      "outputs": [],
      "source": [
        "from keras.preprocessing.image import ImageDataGenerator\n",
        "\n",
        "train_datagen = ImageDataGenerator(rescale = 1./255,\n",
        "                                  shear_range = 0.2,\n",
        "                                  zoom_range = 0.2,\n",
        "                                  horizontal_flip = True,\n",
        "                                  validation_split =0.2)  #set validation Split\n",
        "\n"
      ]
    },
    {
      "cell_type": "code",
      "execution_count": 13,
      "metadata": {
        "colab": {
          "base_uri": "https://localhost:8080/"
        },
        "id": "dhZgEJkxJXHK",
        "outputId": "a8acff04-bfe6-4474-8bc5-0997c65681a8"
      },
      "outputs": [
        {
          "output_type": "stream",
          "name": "stdout",
          "text": [
            "Found 3801 images belonging to 135 classes.\n"
          ]
        }
      ],
      "source": [
        "training_set = train_datagen.flow_from_directory(train_path,\n",
        "                                                target_size = (150,150),   #last minute mistake of target size\n",
        "                                                batch_size =16,\n",
        "                                                class_mode ='categorical',\n",
        "                                                 shuffle = True,\n",
        "                                                subset ='training') # set as training data"
      ]
    },
    {
      "cell_type": "code",
      "source": [
        "valid_set = train_datagen.flow_from_directory(train_path,\n",
        "                                           target_size = (150,150),\n",
        "                                           batch_size =16,\n",
        "                                           class_mode = 'categorical',\n",
        "                                           shuffle = False,\n",
        "                                             subset ='validation')"
      ],
      "metadata": {
        "colab": {
          "base_uri": "https://localhost:8080/"
        },
        "id": "Wup5Pm6iCU6v",
        "outputId": "9696741d-da18-4415-f043-1b97af80a9af"
      },
      "execution_count": 14,
      "outputs": [
        {
          "output_type": "stream",
          "name": "stdout",
          "text": [
            "Found 893 images belonging to 135 classes.\n"
          ]
        }
      ]
    },
    {
      "cell_type": "code",
      "execution_count": 15,
      "metadata": {
        "colab": {
          "base_uri": "https://localhost:8080/"
        },
        "id": "vKSP2j2XK9Tj",
        "outputId": "9017a59c-ef71-4ab8-8eac-8cdb62a3431a"
      },
      "outputs": [
        {
          "output_type": "stream",
          "name": "stderr",
          "text": [
            "/usr/local/lib/python3.7/dist-packages/ipykernel_launcher.py:6: UserWarning: `Model.fit_generator` is deprecated and will be removed in a future version. Please use `Model.fit`, which supports generators.\n",
            "  \n"
          ]
        },
        {
          "output_type": "stream",
          "name": "stdout",
          "text": [
            "Epoch 1/25\n",
            "237/237 [==============================] - 3110s 13s/step - loss: 5.4176 - accuracy: 0.0592 - val_loss: 4.6865 - val_accuracy: 0.1216\n",
            "Epoch 2/25\n",
            "237/237 [==============================] - 54s 226ms/step - loss: 3.0758 - accuracy: 0.3369 - val_loss: 4.6889 - val_accuracy: 0.1636\n",
            "Epoch 3/25\n",
            "237/237 [==============================] - 54s 229ms/step - loss: 2.0699 - accuracy: 0.5176 - val_loss: 4.4915 - val_accuracy: 0.1989\n",
            "Epoch 4/25\n",
            "237/237 [==============================] - 54s 227ms/step - loss: 1.5479 - accuracy: 0.6373 - val_loss: 4.3714 - val_accuracy: 0.2443\n",
            "Epoch 5/25\n",
            "237/237 [==============================] - 55s 231ms/step - loss: 1.1295 - accuracy: 0.7345 - val_loss: 4.2966 - val_accuracy: 0.2602\n",
            "Epoch 6/25\n",
            "237/237 [==============================] - 53s 224ms/step - loss: 0.8534 - accuracy: 0.8021 - val_loss: 4.3264 - val_accuracy: 0.2625\n",
            "Epoch 7/25\n",
            "237/237 [==============================] - 53s 224ms/step - loss: 0.6043 - accuracy: 0.8727 - val_loss: 4.3456 - val_accuracy: 0.2784\n",
            "Epoch 8/25\n",
            "237/237 [==============================] - 53s 224ms/step - loss: 0.4920 - accuracy: 0.8938 - val_loss: 4.5163 - val_accuracy: 0.2784\n",
            "Epoch 9/25\n",
            "237/237 [==============================] - 53s 225ms/step - loss: 0.3907 - accuracy: 0.9152 - val_loss: 4.4870 - val_accuracy: 0.2830\n",
            "Epoch 10/25\n",
            "237/237 [==============================] - 54s 229ms/step - loss: 0.3127 - accuracy: 0.9384 - val_loss: 4.6168 - val_accuracy: 0.2920\n",
            "Epoch 11/25\n",
            "237/237 [==============================] - 53s 224ms/step - loss: 0.2672 - accuracy: 0.9432 - val_loss: 4.4944 - val_accuracy: 0.3045\n",
            "Epoch 12/25\n",
            "237/237 [==============================] - 53s 224ms/step - loss: 0.2218 - accuracy: 0.9564 - val_loss: 4.7739 - val_accuracy: 0.2852\n",
            "Epoch 13/25\n",
            "237/237 [==============================] - 53s 224ms/step - loss: 0.1949 - accuracy: 0.9630 - val_loss: 4.7806 - val_accuracy: 0.2943\n",
            "Epoch 14/25\n",
            "237/237 [==============================] - 54s 227ms/step - loss: 0.1934 - accuracy: 0.9596 - val_loss: 4.9519 - val_accuracy: 0.2943\n",
            "Epoch 15/25\n",
            "237/237 [==============================] - 53s 223ms/step - loss: 0.1639 - accuracy: 0.9672 - val_loss: 4.8513 - val_accuracy: 0.2966\n",
            "Epoch 16/25\n",
            "237/237 [==============================] - 53s 223ms/step - loss: 0.1616 - accuracy: 0.9646 - val_loss: 4.9552 - val_accuracy: 0.2955\n",
            "Epoch 17/25\n",
            "237/237 [==============================] - 54s 227ms/step - loss: 0.1431 - accuracy: 0.9707 - val_loss: 5.1102 - val_accuracy: 0.2909\n",
            "Epoch 18/25\n",
            "237/237 [==============================] - 53s 224ms/step - loss: 0.1353 - accuracy: 0.9683 - val_loss: 5.2030 - val_accuracy: 0.2966\n",
            "Epoch 19/25\n",
            "237/237 [==============================] - 54s 230ms/step - loss: 0.1485 - accuracy: 0.9672 - val_loss: 5.1893 - val_accuracy: 0.3102\n",
            "Epoch 20/25\n",
            "237/237 [==============================] - 53s 223ms/step - loss: 0.1670 - accuracy: 0.9575 - val_loss: 5.2073 - val_accuracy: 0.3080\n",
            "Epoch 21/25\n",
            "237/237 [==============================] - 53s 223ms/step - loss: 0.1420 - accuracy: 0.9654 - val_loss: 5.2913 - val_accuracy: 0.3080\n",
            "Epoch 22/25\n",
            "237/237 [==============================] - 54s 226ms/step - loss: 0.1823 - accuracy: 0.9551 - val_loss: 5.6073 - val_accuracy: 0.2920\n",
            "Epoch 23/25\n",
            "237/237 [==============================] - 53s 224ms/step - loss: 0.1783 - accuracy: 0.9561 - val_loss: 5.5715 - val_accuracy: 0.2943\n",
            "Epoch 24/25\n",
            "237/237 [==============================] - 53s 223ms/step - loss: 0.1174 - accuracy: 0.9715 - val_loss: 5.5165 - val_accuracy: 0.3114\n",
            "Epoch 25/25\n",
            "237/237 [==============================] - 54s 228ms/step - loss: 0.0969 - accuracy: 0.9733 - val_loss: 5.6579 - val_accuracy: 0.3091\n"
          ]
        }
      ],
      "source": [
        "r = model.fit_generator(\n",
        "    training_set,\n",
        "    validation_data=valid_set,\n",
        "    epochs=25,\n",
        "    steps_per_epoch=training_set.samples//16,\n",
        "    validation_steps = valid_set.samples//16\n",
        ")"
      ]
    },
    {
      "cell_type": "code",
      "source": [
        "from google import colab\n",
        "%cd /content/drive/MyDrive/DC/\n"
      ],
      "metadata": {
        "colab": {
          "base_uri": "https://localhost:8080/"
        },
        "id": "O13ZOfx3LCXV",
        "outputId": "b54f627c-0535-4f50-8b32-4a0ed43cc393"
      },
      "execution_count": 16,
      "outputs": [
        {
          "output_type": "stream",
          "name": "stdout",
          "text": [
            "/content/drive/MyDrive/DC\n"
          ]
        }
      ]
    },
    {
      "cell_type": "code",
      "source": [
        "model.save('content/content/drive/MyDrive/DC/Indianactors_model16_16_25.h5')"
      ],
      "metadata": {
        "id": "pIj-RtcSuebP"
      },
      "execution_count": 17,
      "outputs": []
    },
    {
      "cell_type": "code",
      "execution_count": 18,
      "metadata": {
        "colab": {
          "base_uri": "https://localhost:8080/"
        },
        "id": "vJjea7gpPIXr",
        "outputId": "5a61af6a-7ee2-4c67-cc93-1a1f38cfad59"
      },
      "outputs": [
        {
          "output_type": "execute_result",
          "data": {
            "text/plain": [
              "{'loss': [5.417574405670166,\n",
              "  3.075767755508423,\n",
              "  2.0699048042297363,\n",
              "  1.5478878021240234,\n",
              "  1.1294875144958496,\n",
              "  0.8534411787986755,\n",
              "  0.6043187379837036,\n",
              "  0.4920203685760498,\n",
              "  0.3907087743282318,\n",
              "  0.31272444128990173,\n",
              "  0.26720279455184937,\n",
              "  0.22183220088481903,\n",
              "  0.19489414989948273,\n",
              "  0.19338193535804749,\n",
              "  0.16391132771968842,\n",
              "  0.16158455610275269,\n",
              "  0.14306765794754028,\n",
              "  0.13525433838367462,\n",
              "  0.14854565262794495,\n",
              "  0.16702553629875183,\n",
              "  0.142008438706398,\n",
              "  0.1822759062051773,\n",
              "  0.17834991216659546,\n",
              "  0.11742916703224182,\n",
              "  0.09689688682556152],\n",
              " 'accuracy': [0.05918097868561745,\n",
              "  0.33685600757598877,\n",
              "  0.517569363117218,\n",
              "  0.6372523307800293,\n",
              "  0.7344781756401062,\n",
              "  0.8021135926246643,\n",
              "  0.8726552128791809,\n",
              "  0.8937912583351135,\n",
              "  0.9151915311813354,\n",
              "  0.9384412169456482,\n",
              "  0.9431968331336975,\n",
              "  0.9564068913459778,\n",
              "  0.9630118608474731,\n",
              "  0.9595772624015808,\n",
              "  0.9672390818595886,\n",
              "  0.9645971059799194,\n",
              "  0.9706737399101257,\n",
              "  0.9682959318161011,\n",
              "  0.9672390818595886,\n",
              "  0.9574636816978455,\n",
              "  0.9653896689414978,\n",
              "  0.9550858736038208,\n",
              "  0.9561426639556885,\n",
              "  0.9714663028717041,\n",
              "  0.9733157157897949],\n",
              " 'val_loss': [4.686463832855225,\n",
              "  4.688850402832031,\n",
              "  4.491462230682373,\n",
              "  4.371354579925537,\n",
              "  4.296617031097412,\n",
              "  4.3264288902282715,\n",
              "  4.345554351806641,\n",
              "  4.516293525695801,\n",
              "  4.487027168273926,\n",
              "  4.616763114929199,\n",
              "  4.494446754455566,\n",
              "  4.773866176605225,\n",
              "  4.7805705070495605,\n",
              "  4.951942443847656,\n",
              "  4.85129451751709,\n",
              "  4.955166339874268,\n",
              "  5.1101908683776855,\n",
              "  5.203036785125732,\n",
              "  5.189328193664551,\n",
              "  5.2072882652282715,\n",
              "  5.2913007736206055,\n",
              "  5.607346057891846,\n",
              "  5.571532249450684,\n",
              "  5.516463279724121,\n",
              "  5.657917499542236],\n",
              " 'val_accuracy': [0.12159091234207153,\n",
              "  0.16363635659217834,\n",
              "  0.19886364042758942,\n",
              "  0.2443181872367859,\n",
              "  0.2602272629737854,\n",
              "  0.26249998807907104,\n",
              "  0.27840909361839294,\n",
              "  0.27840909361839294,\n",
              "  0.28295454382896423,\n",
              "  0.2920454442501068,\n",
              "  0.30454546213150024,\n",
              "  0.2852272689342499,\n",
              "  0.29431816935539246,\n",
              "  0.29431816935539246,\n",
              "  0.2965908944606781,\n",
              "  0.2954545319080353,\n",
              "  0.290909081697464,\n",
              "  0.2965908944606781,\n",
              "  0.31022727489471436,\n",
              "  0.3079545497894287,\n",
              "  0.3079545497894287,\n",
              "  0.2920454442501068,\n",
              "  0.29431816935539246,\n",
              "  0.3113636374473572,\n",
              "  0.30909091234207153]}"
            ]
          },
          "metadata": {},
          "execution_count": 18
        }
      ],
      "source": [
        "r.history"
      ]
    },
    {
      "cell_type": "code",
      "execution_count": 19,
      "metadata": {
        "colab": {
          "base_uri": "https://localhost:8080/",
          "height": 265
        },
        "id": "erM_-n3ePVBV",
        "outputId": "54fd630e-a6b4-4c29-84f0-64c61523614d"
      },
      "outputs": [
        {
          "output_type": "display_data",
          "data": {
            "text/plain": [
              "<Figure size 432x288 with 1 Axes>"
            ],
            "image/png": "[encoded data removed]"
          },
          "metadata": {
            "needs_background": "light"
          }
        }
      ],
      "source": [
        "plt.plot(r.history['loss'],label =['train loss'])\n",
        "plt.legend()\n",
        "plt.draw()\n",
        "plt.savefig(\"LossVal_loss\")"
      ]
    },
    {
      "cell_type": "code",
      "execution_count": 20,
      "metadata": {
        "colab": {
          "base_uri": "https://localhost:8080/",
          "height": 282
        },
        "id": "x-bbuL1nPpra",
        "outputId": "a417f942-1415-4b16-8c90-43690d8a43e4"
      },
      "outputs": [
        {
          "output_type": "display_data",
          "data": {
            "text/plain": [
              "<Figure size 432x288 with 1 Axes>"
            ],
            "image/png": "[encoded data removed]"
          },
          "metadata": {
            "needs_background": "light"
          }
        },
        {
          "output_type": "display_data",
          "data": {
            "text/plain": [
              "<Figure size 432x288 with 0 Axes>"
            ]
          },
          "metadata": {}
        }
      ],
      "source": [
        "plt.plot(r.history['accuracy'],label ='train acc')\n",
        "plt.legend()\n",
        "plt.show()\n",
        "plt.savefig('AccVal_acc')"
      ]
    },
    {
      "cell_type": "code",
      "execution_count": 21,
      "metadata": {
        "id": "UZACsvfbP9W0"
      },
      "outputs": [],
      "source": [
        "image_pred = image.load_img(r'/content/drive/MyDrive/Colab Notebooks/indian-actor-dataset/test/test1/0d09dbd4e1.jpg',target_size =(224,224))\n",
        "image_pred = image.img_to_array(image_pred)\n",
        "image_pred = np.expand_dims(image_pred,axis =0)"
      ]
    },
    {
      "cell_type": "code",
      "source": [
        "from tensorflow import keras\n",
        "model = keras.models.load_model('content/content/drive/MyDrive/DC/Indianactors_model1.h5')"
      ],
      "metadata": {
        "id": "RgUD3hC1-u5S"
      },
      "execution_count": 22,
      "outputs": []
    },
    {
      "cell_type": "code",
      "source": [
        "mod_pred = model.predict(image_pred)\n",
        "#mod_pred_prob = model.predict_proba(image_pred)\n",
        "print(mod_pred)"
      ],
      "metadata": {
        "id": "9nQyP06d-ur-",
        "colab": {
          "base_uri": "https://localhost:8080/",
          "height": 606
        },
        "outputId": "4cf30a3a-f1ea-47bf-c447-4f57ab021033"
      },
      "execution_count": 23,
      "outputs": [
        {
          "output_type": "error",
          "ename": "ValueError",
          "evalue": "ignored",
          "traceback": [
            "\u001b[0;31m---------------------------------------------------------------------------\u001b[0m",
            "\u001b[0;31mValueError\u001b[0m                                Traceback (most recent call last)",
            "\u001b[0;32m<ipython-input-23-091654489548>\u001b[0m in \u001b[0;36m<module>\u001b[0;34m\u001b[0m\n\u001b[0;32m----> 1\u001b[0;31m \u001b[0mmod_pred\u001b[0m \u001b[0;34m=\u001b[0m \u001b[0mmodel\u001b[0m\u001b[0;34m.\u001b[0m\u001b[0mpredict\u001b[0m\u001b[0;34m(\u001b[0m\u001b[0mimage_pred\u001b[0m\u001b[0;34m)\u001b[0m\u001b[0;34m\u001b[0m\u001b[0;34m\u001b[0m\u001b[0m\n\u001b[0m\u001b[1;32m      2\u001b[0m \u001b[0;31m#mod_pred_prob = model.predict_proba(image_pred)\u001b[0m\u001b[0;34m\u001b[0m\u001b[0;34m\u001b[0m\u001b[0;34m\u001b[0m\u001b[0m\n\u001b[1;32m      3\u001b[0m \u001b[0mprint\u001b[0m\u001b[0;34m(\u001b[0m\u001b[0mmod_pred\u001b[0m\u001b[0;34m)\u001b[0m\u001b[0;34m\u001b[0m\u001b[0;34m\u001b[0m\u001b[0m\n",
            "\u001b[0;32m/usr/local/lib/python3.7/dist-packages/keras/utils/traceback_utils.py\u001b[0m in \u001b[0;36merror_handler\u001b[0;34m(*args, **kwargs)\u001b[0m\n\u001b[1;32m     65\u001b[0m     \u001b[0;32mexcept\u001b[0m \u001b[0mException\u001b[0m \u001b[0;32mas\u001b[0m \u001b[0me\u001b[0m\u001b[0;34m:\u001b[0m  \u001b[0;31m# pylint: disable=broad-except\u001b[0m\u001b[0;34m\u001b[0m\u001b[0;34m\u001b[0m\u001b[0m\n\u001b[1;32m     66\u001b[0m       \u001b[0mfiltered_tb\u001b[0m \u001b[0;34m=\u001b[0m \u001b[0m_process_traceback_frames\u001b[0m\u001b[0;34m(\u001b[0m\u001b[0me\u001b[0m\u001b[0;34m.\u001b[0m\u001b[0m__traceback__\u001b[0m\u001b[0;34m)\u001b[0m\u001b[0;34m\u001b[0m\u001b[0;34m\u001b[0m\u001b[0m\n\u001b[0;32m---> 67\u001b[0;31m       \u001b[0;32mraise\u001b[0m \u001b[0me\u001b[0m\u001b[0;34m.\u001b[0m\u001b[0mwith_traceback\u001b[0m\u001b[0;34m(\u001b[0m\u001b[0mfiltered_tb\u001b[0m\u001b[0;34m)\u001b[0m \u001b[0;32mfrom\u001b[0m \u001b[0;32mNone\u001b[0m\u001b[0;34m\u001b[0m\u001b[0;34m\u001b[0m\u001b[0m\n\u001b[0m\u001b[1;32m     68\u001b[0m     \u001b[0;32mfinally\u001b[0m\u001b[0;34m:\u001b[0m\u001b[0;34m\u001b[0m\u001b[0;34m\u001b[0m\u001b[0m\n\u001b[1;32m     69\u001b[0m       \u001b[0;32mdel\u001b[0m \u001b[0mfiltered_tb\u001b[0m\u001b[0;34m\u001b[0m\u001b[0;34m\u001b[0m\u001b[0m\n",
            "\u001b[0;32m/usr/local/lib/python3.7/dist-packages/tensorflow/python/framework/func_graph.py\u001b[0m in \u001b[0;36mautograph_handler\u001b[0;34m(*args, **kwargs)\u001b[0m\n\u001b[1;32m   1145\u001b[0m           \u001b[0;32mexcept\u001b[0m \u001b[0mException\u001b[0m \u001b[0;32mas\u001b[0m \u001b[0me\u001b[0m\u001b[0;34m:\u001b[0m  \u001b[0;31m# pylint:disable=broad-except\u001b[0m\u001b[0;34m\u001b[0m\u001b[0;34m\u001b[0m\u001b[0m\n\u001b[1;32m   1146\u001b[0m             \u001b[0;32mif\u001b[0m \u001b[0mhasattr\u001b[0m\u001b[0;34m(\u001b[0m\u001b[0me\u001b[0m\u001b[0;34m,\u001b[0m \u001b[0;34m\"ag_error_metadata\"\u001b[0m\u001b[0;34m)\u001b[0m\u001b[0;34m:\u001b[0m\u001b[0;34m\u001b[0m\u001b[0;34m\u001b[0m\u001b[0m\n\u001b[0;32m-> 1147\u001b[0;31m               \u001b[0;32mraise\u001b[0m \u001b[0me\u001b[0m\u001b[0;34m.\u001b[0m\u001b[0mag_error_metadata\u001b[0m\u001b[0;34m.\u001b[0m\u001b[0mto_exception\u001b[0m\u001b[0;34m(\u001b[0m\u001b[0me\u001b[0m\u001b[0;34m)\u001b[0m\u001b[0;34m\u001b[0m\u001b[0;34m\u001b[0m\u001b[0m\n\u001b[0m\u001b[1;32m   1148\u001b[0m             \u001b[0;32melse\u001b[0m\u001b[0;34m:\u001b[0m\u001b[0;34m\u001b[0m\u001b[0;34m\u001b[0m\u001b[0m\n\u001b[1;32m   1149\u001b[0m               \u001b[0;32mraise\u001b[0m\u001b[0;34m\u001b[0m\u001b[0;34m\u001b[0m\u001b[0m\n",
            "\u001b[0;31mValueError\u001b[0m: in user code:\n\n    File \"/usr/local/lib/python3.7/dist-packages/keras/engine/training.py\", line 1801, in predict_function  *\n        return step_function(self, iterator)\n    File \"/usr/local/lib/python3.7/dist-packages/keras/engine/training.py\", line 1790, in step_function  **\n        outputs = model.distribute_strategy.run(run_step, args=(data,))\n    File \"/usr/local/lib/python3.7/dist-packages/keras/engine/training.py\", line 1783, in run_step  **\n        outputs = model.predict_step(data)\n    File \"/usr/local/lib/python3.7/dist-packages/keras/engine/training.py\", line 1751, in predict_step\n        return self(x, training=False)\n    File \"/usr/local/lib/python3.7/dist-packages/keras/utils/traceback_utils.py\", line 67, in error_handler\n        raise e.with_traceback(filtered_tb) from None\n    File \"/usr/local/lib/python3.7/dist-packages/keras/engine/input_spec.py\", line 264, in assert_input_compatibility\n        raise ValueError(f'Input {input_index} of layer \"{layer_name}\" is '\n\n    ValueError: Input 0 of layer \"model\" is incompatible with the layer: expected shape=(None, 150, 150, 3), found shape=(None, 224, 224, 3)\n"
          ]
        }
      ]
    },
    {
      "cell_type": "code",
      "source": [
        "for j,i in enumerate(folders):\n",
        "    i = i.replace('indian-actor-dataset/indian-actor-dataset/train\\\\','')\n",
        "    if (mod_pred[0][j]>0.5):\n",
        "        print(\"{}\".format(j),i)"
      ],
      "metadata": {
        "id": "5kCfq_W9QI0a"
      },
      "execution_count": null,
      "outputs": []
    }
  ],
  "metadata": {
    "colab": {
      "name": "IndianActors.ipynb",
      "provenance": [],
      "mount_file_id": "1vsD53s5SjJM0QGRrCHSOZTA0auw-w1ln",
      "authorship_tag": "ABX9TyNhXMZCF/2Lg5pLAgilAns2",
      "include_colab_link": true
    },
    "kernelspec": {
      "display_name": "Python 3",
      "name": "python3"
    },
    "language_info": {
      "name": "python"
    },
    "accelerator": "GPU",
    "gpuClass": "standard"
  },
  "nbformat": 4,
  "nbformat_minor": 0
}