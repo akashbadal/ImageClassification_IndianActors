{
  "nbformat": 4,
  "nbformat_minor": 0,
  "metadata": {
    "colab": {
      "name": "IndianActor_SequentialModel.ipynb",
      "provenance": [],
      "mount_file_id": "1MHkzVxQOKwiGGNtc_g70E9fESyceHfgQ",
      "authorship_tag": "ABX9TyMIKDAdObAhFmltvr3jb1aH",
      "include_colab_link": true
    },
    "kernelspec": {
      "name": "python3",
      "display_name": "Python 3"
    },
    "language_info": {
      "name": "python"
    }
  },
  "cells": [
    {
      "cell_type": "markdown",
      "metadata": {
        "id": "view-in-github",
        "colab_type": "text"
      },
      "source": [
        "<a href=\"https://colab.research.google.com/github/akashbadal/ImageClassification_IndianActors/blob/main/IndianActor_SequentialModel.ipynb\" target=\"_parent\"><img src=\"https://colab.research.google.com/assets/colab-badge.svg\" alt=\"Open In Colab\"/></a>"
      ]
    },
    {
      "cell_type": "code",
      "execution_count": 1,
      "metadata": {
        "colab": {
          "base_uri": "https://localhost:8080/"
        },
        "id": "ms5p23lhRn7b",
        "outputId": "f88c5803-106a-4571-a7b3-74d6ddadd02e"
      },
      "outputs": [
        {
          "output_type": "stream",
          "name": "stdout",
          "text": [
            "Looking in indexes: https://pypi.org/simple, https://us-python.pkg.dev/colab-wheels/public/simple/\n",
            "Requirement already satisfied: keras in /usr/local/lib/python3.7/dist-packages (2.8.0)\n"
          ]
        }
      ],
      "source": [
        "!pip install keras\n",
        "\n"
      ]
    },
    {
      "cell_type": "code",
      "source": [
        "\n",
        "from keras.preprocessing import image\n",
        "from keras.preprocessing.image import ImageDataGenerator\n",
        "from keras.models import Sequential\n",
        "from keras.layers import Conv2D, MaxPooling2D\n",
        "from keras.layers import Activation, Dropout, Flatten, Dense\n",
        "from keras import backend as K\n",
        "import numpy as np\n",
        "from glob import glob\n",
        "import matplotlib.pyplot as plt\n"
      ],
      "metadata": {
        "id": "KMZ4MZexR35-"
      },
      "execution_count": 2,
      "outputs": []
    },
    {
      "cell_type": "code",
      "source": [
        "img_width, img_height = 150,150"
      ],
      "metadata": {
        "id": "6joeC3oVSBuN"
      },
      "execution_count": 3,
      "outputs": []
    },
    {
      "cell_type": "code",
      "source": [
        "train_path = '/content/drive/MyDrive/Colab Notebooks/indian-actor-dataset/train'\n",
        "valid_path = '/content/drive/MyDrive/Colab Notebooks/indian-actor-dataset/test'\n"
      ],
      "metadata": {
        "id": "uNQEe92TSJ0V"
      },
      "execution_count": 4,
      "outputs": []
    },
    {
      "cell_type": "code",
      "source": [
        "epochs = 5\n",
        "batch_size = 32"
      ],
      "metadata": {
        "id": "tWdpakR0WSXJ"
      },
      "execution_count": 5,
      "outputs": []
    },
    {
      "cell_type": "code",
      "source": [
        "if K.image_data_format() =='channels_first':\n",
        "  input_shape =(3,img_width,img_height)\n",
        "else:\n",
        "  input_shape = (img_width,img_height,3)"
      ],
      "metadata": {
        "id": "U8aax85RS8ek"
      },
      "execution_count": 6,
      "outputs": []
    },
    {
      "cell_type": "code",
      "source": [
        "train_datagen = ImageDataGenerator(rescale = 1./255,\n",
        "                                  shear_range = 0.2,\n",
        "                                  zoom_range = 0.2,\n",
        "                                  horizontal_flip = True,\n",
        "                                   validation_split=0.2) # Set Validation Split\n",
        "#test_datagen = ImageDataGenerator(rescale = 1./255)"
      ],
      "metadata": {
        "id": "Dd1UHx3uTi5C"
      },
      "execution_count": 7,
      "outputs": []
    },
    {
      "cell_type": "code",
      "source": [
        "training_set = train_datagen.flow_from_directory(train_path,\n",
        "                                                target_size = (150,150),\n",
        "                                                batch_size =32,\n",
        "                                                class_mode ='categorical',\n",
        "                                                 subset ='training')  #set as training data\n",
        "valid_set = train_datagen.flow_from_directory(train_path,\n",
        "                                           target_size = (150,150),\n",
        "                                           batch_size =32,\n",
        "                                           class_mode = 'categorical',\n",
        "                                           subset ='validation') # set as validation data"
      ],
      "metadata": {
        "colab": {
          "base_uri": "https://localhost:8080/"
        },
        "id": "bj67sbfTU0HM",
        "outputId": "de0eaab0-66d2-45fa-8c9e-fb338f05fcd8"
      },
      "execution_count": 8,
      "outputs": [
        {
          "output_type": "stream",
          "name": "stdout",
          "text": [
            "Found 3801 images belonging to 135 classes.\n",
            "Found 893 images belonging to 135 classes.\n"
          ]
        }
      ]
    },
    {
      "cell_type": "code",
      "source": [
        "model = Sequential()\n",
        "model.add(Conv2D(32,(3,3),input_shape = input_shape))\n",
        "model.add(Activation('relu'))\n",
        "model.add(MaxPooling2D(pool_size=(2,2)))"
      ],
      "metadata": {
        "id": "xaV8-SuEVMsL"
      },
      "execution_count": 9,
      "outputs": []
    },
    {
      "cell_type": "code",
      "source": [
        "model.summary()"
      ],
      "metadata": {
        "colab": {
          "base_uri": "https://localhost:8080/"
        },
        "id": "OPQDjVjaVNva",
        "outputId": "2dec7749-1c9a-4680-e808-938cfd38d652"
      },
      "execution_count": 10,
      "outputs": [
        {
          "output_type": "stream",
          "name": "stdout",
          "text": [
            "Model: \"sequential\"\n",
            "_________________________________________________________________\n",
            " Layer (type)                Output Shape              Param #   \n",
            "=================================================================\n",
            " conv2d (Conv2D)             (None, 148, 148, 32)      896       \n",
            "                                                                 \n",
            " activation (Activation)     (None, 148, 148, 32)      0         \n",
            "                                                                 \n",
            " max_pooling2d (MaxPooling2D  (None, 74, 74, 32)       0         \n",
            " )                                                               \n",
            "                                                                 \n",
            "=================================================================\n",
            "Total params: 896\n",
            "Trainable params: 896\n",
            "Non-trainable params: 0\n",
            "_________________________________________________________________\n"
          ]
        }
      ]
    },
    {
      "cell_type": "code",
      "source": [
        "model = Sequential()\n",
        "model.add(Conv2D(32,(3,3),input_shape = input_shape))\n",
        "model.add(Activation('relu'))\n",
        "model.add(MaxPooling2D(pool_size=(2,2)))"
      ],
      "metadata": {
        "id": "eWbRrg1PVOE7"
      },
      "execution_count": 11,
      "outputs": []
    },
    {
      "cell_type": "code",
      "source": [
        "\n",
        "model.add(Conv2D(64,(3,3)))\n",
        "model.add(Activation('relu'))\n",
        "model.add(MaxPooling2D(pool_size=(2,2)))"
      ],
      "metadata": {
        "id": "54Sc-i8rXZYD"
      },
      "execution_count": 12,
      "outputs": []
    },
    {
      "cell_type": "code",
      "source": [
        "model.add(Conv2D(64,(3,3)))\n",
        "model.add(Activation('relu'))\n",
        "model.add(MaxPooling2D(pool_size=(2,2)))"
      ],
      "metadata": {
        "id": "uoJ2l5m9XZ6V"
      },
      "execution_count": 13,
      "outputs": []
    },
    {
      "cell_type": "code",
      "source": [
        "model.add(Flatten())\n",
        "model.add(Dense(64))\n",
        "model.add(Activation('relu'))\n",
        "model.add(Dropout(0.5))\n",
        "model.add(Dense(135))\n",
        "model.add(Activation('sigmoid'))"
      ],
      "metadata": {
        "id": "DtcWKB21XZsk"
      },
      "execution_count": 14,
      "outputs": []
    },
    {
      "cell_type": "code",
      "source": [
        "model.summary()"
      ],
      "metadata": {
        "colab": {
          "base_uri": "https://localhost:8080/"
        },
        "id": "F5NXTlKQYog_",
        "outputId": "9db1084a-6732-496f-d8e0-e279a8b35ea9"
      },
      "execution_count": 15,
      "outputs": [
        {
          "output_type": "stream",
          "name": "stdout",
          "text": [
            "Model: \"sequential_1\"\n",
            "_________________________________________________________________\n",
            " Layer (type)                Output Shape              Param #   \n",
            "=================================================================\n",
            " conv2d_1 (Conv2D)           (None, 148, 148, 32)      896       \n",
            "                                                                 \n",
            " activation_1 (Activation)   (None, 148, 148, 32)      0         \n",
            "                                                                 \n",
            " max_pooling2d_1 (MaxPooling  (None, 74, 74, 32)       0         \n",
            " 2D)                                                             \n",
            "                                                                 \n",
            " conv2d_2 (Conv2D)           (None, 72, 72, 64)        18496     \n",
            "                                                                 \n",
            " activation_2 (Activation)   (None, 72, 72, 64)        0         \n",
            "                                                                 \n",
            " max_pooling2d_2 (MaxPooling  (None, 36, 36, 64)       0         \n",
            " 2D)                                                             \n",
            "                                                                 \n",
            " conv2d_3 (Conv2D)           (None, 34, 34, 64)        36928     \n",
            "                                                                 \n",
            " activation_3 (Activation)   (None, 34, 34, 64)        0         \n",
            "                                                                 \n",
            " max_pooling2d_3 (MaxPooling  (None, 17, 17, 64)       0         \n",
            " 2D)                                                             \n",
            "                                                                 \n",
            " flatten (Flatten)           (None, 18496)             0         \n",
            "                                                                 \n",
            " dense (Dense)               (None, 64)                1183808   \n",
            "                                                                 \n",
            " activation_4 (Activation)   (None, 64)                0         \n",
            "                                                                 \n",
            " dropout (Dropout)           (None, 64)                0         \n",
            "                                                                 \n",
            " dense_1 (Dense)             (None, 135)               8775      \n",
            "                                                                 \n",
            " activation_5 (Activation)   (None, 135)               0         \n",
            "                                                                 \n",
            "=================================================================\n",
            "Total params: 1,248,903\n",
            "Trainable params: 1,248,903\n",
            "Non-trainable params: 0\n",
            "_________________________________________________________________\n"
          ]
        }
      ]
    },
    {
      "cell_type": "code",
      "source": [
        "model.compile(\n",
        "    loss = 'categorical_crossentropy',\n",
        "    optimizer = 'adam',\n",
        "    metrics =['accuracy']\n",
        ")"
      ],
      "metadata": {
        "id": "_7ORwfASYoYq"
      },
      "execution_count": 16,
      "outputs": []
    },
    {
      "cell_type": "code",
      "source": [
        "r = model.fit_generator(\n",
        "    training_set,\n",
        "    validation_data =valid_set,\n",
        "    epochs=5,\n",
        "    steps_per_epoch=training_set.samples//batch_size,\n",
        "    validation_steps = valid_set.samples//batch_size\n",
        ")"
      ],
      "metadata": {
        "colab": {
          "base_uri": "https://localhost:8080/"
        },
        "id": "on7NwPpRYoQY",
        "outputId": "8a89dde5-d80a-4dca-ea95-5b9865ec69ae"
      },
      "execution_count": 17,
      "outputs": [
        {
          "metadata": {
            "tags": null
          },
          "name": "stderr",
          "output_type": "stream",
          "text": [
            "/usr/local/lib/python3.7/dist-packages/ipykernel_launcher.py:6: UserWarning: `Model.fit_generator` is deprecated and will be removed in a future version. Please use `Model.fit`, which supports generators.\n",
            "  \n"
          ]
        },
        {
          "output_type": "stream",
          "name": "stdout",
          "text": [
            "Epoch 1/5\n",
            "118/118 [==============================] - 1277s 11s/step - loss: 4.9071 - accuracy: 0.0061 - val_loss: 4.9014 - val_accuracy: 0.0081\n",
            "Epoch 2/5\n",
            "118/118 [==============================] - 112s 950ms/step - loss: 4.9004 - accuracy: 0.0072 - val_loss: 4.8980 - val_accuracy: 0.0081\n",
            "Epoch 3/5\n",
            "118/118 [==============================] - 111s 938ms/step - loss: 4.8972 - accuracy: 0.0082 - val_loss: 4.8943 - val_accuracy: 0.0104\n",
            "Epoch 4/5\n",
            "118/118 [==============================] - 111s 935ms/step - loss: 4.8923 - accuracy: 0.0080 - val_loss: 4.8864 - val_accuracy: 0.0104\n",
            "Epoch 5/5\n",
            "118/118 [==============================] - 111s 938ms/step - loss: 4.8820 - accuracy: 0.0085 - val_loss: 4.8811 - val_accuracy: 0.0104\n"
          ]
        }
      ]
    },
    {
      "cell_type": "code",
      "source": [
        "from google import colab\n",
        "%cd /content/drive/MyDrive/DC/"
      ],
      "metadata": {
        "colab": {
          "base_uri": "https://localhost:8080/"
        },
        "id": "Qh49-uTdbqX2",
        "outputId": "0e7b3818-e05f-4b15-c0f4-30786b214579"
      },
      "execution_count": 18,
      "outputs": [
        {
          "output_type": "stream",
          "name": "stdout",
          "text": [
            "/content/drive/MyDrive/DC\n"
          ]
        }
      ]
    },
    {
      "cell_type": "code",
      "source": [
        "model.save_weights('content/content/drive/MyDrive/DC/IndianActor_Conv2_1.h5')"
      ],
      "metadata": {
        "id": "KFEqmlJfYoBP"
      },
      "execution_count": 19,
      "outputs": []
    }
  ]
}